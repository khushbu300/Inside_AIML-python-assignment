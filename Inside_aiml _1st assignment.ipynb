{
 "cells": [
  {
   "cell_type": "markdown",
   "id": "0a4b1f10",
   "metadata": {},
   "source": [
    "# List"
   ]
  },
  {
   "cell_type": "markdown",
   "id": "a36f56b0",
   "metadata": {},
   "source": [
    "Q1: how to declare a list\n",
    "\n",
    "List is declared by square bracket ie [ ]"
   ]
  },
  {
   "cell_type": "code",
   "execution_count": 1,
   "id": "0e35a7c1",
   "metadata": {},
   "outputs": [
    {
     "data": {
      "text/plain": [
       "[5, 6, 3, 'peron']"
      ]
     },
     "execution_count": 1,
     "metadata": {},
     "output_type": "execute_result"
    }
   ],
   "source": [
    "lst1 = [5,6,3, \"peron\"]\n",
    "lst1"
   ]
  },
  {
   "cell_type": "code",
   "execution_count": 2,
   "id": "15bc0af7",
   "metadata": {},
   "outputs": [
    {
     "data": {
      "text/plain": [
       "['apple,', 'banana', 'cherry', 'strawberry', 'mango']"
      ]
     },
     "execution_count": 2,
     "metadata": {},
     "output_type": "execute_result"
    }
   ],
   "source": [
    "#Que 2:\n",
    "lst2 =[\"apple,\", \"banana\", \"cherry\", \"strawberry\", \"mango\"]\n",
    "lst2"
   ]
  },
  {
   "cell_type": "code",
   "execution_count": 3,
   "id": "9eea9110",
   "metadata": {},
   "outputs": [
    {
     "data": {
      "text/plain": [
       "['apple',\n",
       " 12,\n",
       " 15.63,\n",
       " (4, 5, 63, 1),\n",
       " False,\n",
       " [5, 3, 6, 15],\n",
       " {1, 3, 5, 6, 7, 8},\n",
       " {1: 'one', 2: 'two', 'name': 'khushbu'}]"
      ]
     },
     "execution_count": 3,
     "metadata": {},
     "output_type": "execute_result"
    }
   ],
   "source": [
    "lst3 = [\"apple\", 12, 15.63, (4, 5, 63 , 1), False, [5, 3, 6, 15], {5, 7, 8, 1, 3, 6}, {1:\"one\", 2:\"two\", \"name\":\"khushbu\"}]\n",
    "lst3"
   ]
  },
  {
   "cell_type": "code",
   "execution_count": 4,
   "id": "151e34ff",
   "metadata": {},
   "outputs": [
    {
     "data": {
      "text/plain": [
       "True"
      ]
     },
     "execution_count": 4,
     "metadata": {},
     "output_type": "execute_result"
    }
   ],
   "source": [
    "lst4 = [\"apple,\", \"banana\", \"cherry\", \"strawberry\", \"mango\"]\n",
    "\"mango\" in lst4"
   ]
  },
  {
   "cell_type": "code",
   "execution_count": 5,
   "id": "107efcdb",
   "metadata": {},
   "outputs": [
    {
     "data": {
      "text/plain": [
       "15.36"
      ]
     },
     "execution_count": 5,
     "metadata": {},
     "output_type": "execute_result"
    }
   ],
   "source": [
    "lst5 = [\"khushbu\", 26, 15.36, \"shahare\", 12+3j]\n",
    "lst5[2]"
   ]
  },
  {
   "cell_type": "code",
   "execution_count": 6,
   "id": "dcc00d2f",
   "metadata": {},
   "outputs": [
    {
     "data": {
      "text/plain": [
       "[8, 9]"
      ]
     },
     "execution_count": 6,
     "metadata": {},
     "output_type": "execute_result"
    }
   ],
   "source": [
    "lst2 = [5, 3, 4, 8, 9, 6, 2, 1, 5, 6]\n",
    "lst2[3:5]"
   ]
  },
  {
   "cell_type": "code",
   "execution_count": 7,
   "id": "5b932c59",
   "metadata": {},
   "outputs": [
    {
     "data": {
      "text/plain": [
       "['khushbu', 26, 15.36, 'shahare', (12+3j), 'inside_aiml']"
      ]
     },
     "execution_count": 7,
     "metadata": {},
     "output_type": "execute_result"
    }
   ],
   "source": [
    "lst7 = [\"khushbu\", 26, 15.36, \"shahare\", 12+3j]\n",
    "lst7.append(\"inside_aiml\")\n",
    "lst7"
   ]
  },
  {
   "cell_type": "code",
   "execution_count": 8,
   "id": "fbf88242",
   "metadata": {},
   "outputs": [
    {
     "data": {
      "text/plain": [
       "'inside_aiml'"
      ]
     },
     "execution_count": 8,
     "metadata": {},
     "output_type": "execute_result"
    }
   ],
   "source": [
    "lst8 = [\"apple\", \"banana\", 78, \"inside_aiml\", 89.45, 23]\n",
    "# to access inside_aiml\n",
    "lst8[-3]"
   ]
  },
  {
   "cell_type": "code",
   "execution_count": 9,
   "id": "b035ae8c",
   "metadata": {},
   "outputs": [
    {
     "data": {
      "text/plain": [
       "89.45"
      ]
     },
     "execution_count": 9,
     "metadata": {},
     "output_type": "execute_result"
    }
   ],
   "source": [
    "# to acess 89.23\n",
    "lst8[-2]"
   ]
  },
  {
   "cell_type": "code",
   "execution_count": 10,
   "id": "cc648dfa",
   "metadata": {},
   "outputs": [
    {
     "data": {
      "text/plain": [
       "23"
      ]
     },
     "execution_count": 10,
     "metadata": {},
     "output_type": "execute_result"
    }
   ],
   "source": [
    "# to acess 23\n",
    "lst8[-1]"
   ]
  },
  {
   "cell_type": "markdown",
   "id": "14770433",
   "metadata": {},
   "source": [
    "# Tuple"
   ]
  },
  {
   "cell_type": "code",
   "execution_count": 11,
   "id": "50551d89",
   "metadata": {},
   "outputs": [],
   "source": [
    "#Once tupple is created we can not manipulate it but list can be manipulate at any time. \n"
   ]
  },
  {
   "cell_type": "code",
   "execution_count": 12,
   "id": "ca32a999",
   "metadata": {},
   "outputs": [
    {
     "data": {
      "text/plain": [
       "('khushbu', 56, 'apple')"
      ]
     },
     "execution_count": 12,
     "metadata": {},
     "output_type": "execute_result"
    }
   ],
   "source": [
    "#tupple is declared by round bracket only\n",
    "tup1 = (\"khushbu\", 56, \"apple\")\n",
    "tup1"
   ]
  },
  {
   "cell_type": "code",
   "execution_count": 13,
   "id": "7e6c992d",
   "metadata": {},
   "outputs": [
    {
     "data": {
      "text/plain": [
       "('khushbu', 36, 78.36, (2+6j), True)"
      ]
     },
     "execution_count": 13,
     "metadata": {},
     "output_type": "execute_result"
    }
   ],
   "source": [
    "tup2 = (\"khushbu\", 36, 78.36, 2+6J, True)\n",
    "tup2"
   ]
  },
  {
   "cell_type": "code",
   "execution_count": 14,
   "id": "03cc3892",
   "metadata": {},
   "outputs": [
    {
     "data": {
      "text/plain": [
       "9"
      ]
     },
     "execution_count": 14,
     "metadata": {},
     "output_type": "execute_result"
    }
   ],
   "source": [
    "tup3 = (8, 6, 3, 1, 5, 9, 6, 3, 2, 1, 5)\n",
    "tup3[5]"
   ]
  },
  {
   "cell_type": "code",
   "execution_count": 15,
   "id": "af43a9b7",
   "metadata": {},
   "outputs": [
    {
     "data": {
      "text/plain": [
       "(2+6j)"
      ]
     },
     "execution_count": 15,
     "metadata": {},
     "output_type": "execute_result"
    }
   ],
   "source": [
    "tup5 = (\"khushbu\", 36, 78.36, 2+6J, True, \"shahare\", \"inside_aiml\", 50)\n",
    "tup5[3]\n"
   ]
  },
  {
   "cell_type": "code",
   "execution_count": 16,
   "id": "a363b217",
   "metadata": {},
   "outputs": [
    {
     "data": {
      "text/plain": [
       "True"
      ]
     },
     "execution_count": 16,
     "metadata": {},
     "output_type": "execute_result"
    }
   ],
   "source": [
    "tup5[-4]"
   ]
  },
  {
   "cell_type": "code",
   "execution_count": 17,
   "id": "9c2a0579",
   "metadata": {},
   "outputs": [
    {
     "data": {
      "text/plain": [
       "True"
      ]
     },
     "execution_count": 17,
     "metadata": {},
     "output_type": "execute_result"
    }
   ],
   "source": [
    "tup6 = (\"khushbu\", 36, 78.36, 2+6J, True, \"shahare\", \"inside_aiml\", 50)\n",
    "\"inside_aiml\" in tup6"
   ]
  },
  {
   "cell_type": "code",
   "execution_count": 18,
   "id": "532741ae",
   "metadata": {},
   "outputs": [
    {
     "data": {
      "text/plain": [
       "(78.36, (2+6j), True, 'shahare')"
      ]
     },
     "execution_count": 18,
     "metadata": {},
     "output_type": "execute_result"
    }
   ],
   "source": [
    "tup7 = (\"khushbu\", 36, 78.36, 2+6J, True, \"shahare\", \"inside_aiml\", 50)\n",
    "tup7[2:6]"
   ]
  },
  {
   "cell_type": "code",
   "execution_count": 19,
   "id": "4fb4f07b",
   "metadata": {},
   "outputs": [
    {
     "data": {
      "text/plain": [
       "8"
      ]
     },
     "execution_count": 19,
     "metadata": {},
     "output_type": "execute_result"
    }
   ],
   "source": [
    "tup8 = (\"khushbu\", 36, 78.36, 2+6J, True, \"shahare\", \"inside_aiml\", 50)\n",
    "len(tup8)"
   ]
  },
  {
   "cell_type": "code",
   "execution_count": 20,
   "id": "040ea06e",
   "metadata": {},
   "outputs": [
    {
     "name": "stdout",
     "output_type": "stream",
     "text": [
      "This is a tuple (100, 200, 300)\n"
     ]
    }
   ],
   "source": [
    "tup9 = (100, 200, 300)\n",
    "print(f\"This is a tuple {tup9}\")"
   ]
  },
  {
   "cell_type": "code",
   "execution_count": null,
   "id": "48682fc0",
   "metadata": {},
   "outputs": [],
   "source": []
  },
  {
   "cell_type": "markdown",
   "id": "dcc9ca8c",
   "metadata": {},
   "source": [
    "# Set"
   ]
  },
  {
   "cell_type": "code",
   "execution_count": 21,
   "id": "6cc72f65",
   "metadata": {},
   "outputs": [
    {
     "data": {
      "text/plain": [
       "{True, 'khushbu'}"
      ]
     },
     "execution_count": 21,
     "metadata": {},
     "output_type": "execute_result"
    }
   ],
   "source": [
    "# set is always created in curly bracket with minimum one element in it\n",
    "s1 = {\"khushbu\", True}\n",
    "s1"
   ]
  },
  {
   "cell_type": "code",
   "execution_count": 22,
   "id": "186357d0",
   "metadata": {},
   "outputs": [
    {
     "data": {
      "text/plain": [
       "{3, 5, 6, 8, 9, 'apple', 'banana', 'straberry'}"
      ]
     },
     "execution_count": 22,
     "metadata": {},
     "output_type": "execute_result"
    }
   ],
   "source": [
    "s3 = {5,3,6,9,8, \"banana\", \"apple\"}\n",
    "s3.add( \"straberry\")\n",
    "s3"
   ]
  },
  {
   "cell_type": "code",
   "execution_count": 23,
   "id": "cc88ba31",
   "metadata": {},
   "outputs": [
    {
     "data": {
      "text/plain": [
       "{3, 5, 6, 8, 9, 'apple'}"
      ]
     },
     "execution_count": 23,
     "metadata": {},
     "output_type": "execute_result"
    }
   ],
   "source": [
    "s4 = {5,3,6,9,8, \"banana\", \"apple\"}\n",
    "s4.remove(\"banana\")\n",
    "s4"
   ]
  },
  {
   "cell_type": "code",
   "execution_count": 24,
   "id": "1989a390",
   "metadata": {},
   "outputs": [
    {
     "data": {
      "text/plain": [
       "{43, 500, 'school', 'students', 'teacher'}"
      ]
     },
     "execution_count": 24,
     "metadata": {},
     "output_type": "execute_result"
    }
   ],
   "source": [
    "s5 = {\"school\", \"college\", \"students\", \"teacher\", 500, 43}\n",
    "s5.remove(\"college\")\n",
    "s5"
   ]
  },
  {
   "cell_type": "code",
   "execution_count": 25,
   "id": "abc6c233",
   "metadata": {},
   "outputs": [],
   "source": [
    "s5 = {\"school\", \"college\", \"students\", \"teacher\", 500, 43}\n",
    "s5.discard(500)"
   ]
  },
  {
   "cell_type": "code",
   "execution_count": 26,
   "id": "5b10f05a",
   "metadata": {},
   "outputs": [
    {
     "data": {
      "text/plain": [
       "{43, 'college', 'school', 'students', 'teacher'}"
      ]
     },
     "execution_count": 26,
     "metadata": {},
     "output_type": "execute_result"
    }
   ],
   "source": [
    "s5"
   ]
  },
  {
   "cell_type": "code",
   "execution_count": 27,
   "id": "40ec0753",
   "metadata": {},
   "outputs": [
    {
     "data": {
      "text/plain": [
       "3"
      ]
     },
     "execution_count": 27,
     "metadata": {},
     "output_type": "execute_result"
    }
   ],
   "source": [
    "s6 = {8,3,6,9,25,16,46,21,78}\n",
    "min(s6)"
   ]
  },
  {
   "cell_type": "code",
   "execution_count": 28,
   "id": "4fa8b206",
   "metadata": {},
   "outputs": [
    {
     "data": {
      "text/plain": [
       "78"
      ]
     },
     "execution_count": 28,
     "metadata": {},
     "output_type": "execute_result"
    }
   ],
   "source": [
    "max(s6)"
   ]
  },
  {
   "cell_type": "code",
   "execution_count": 29,
   "id": "82e0cdd9",
   "metadata": {},
   "outputs": [
    {
     "data": {
      "text/plain": [
       "12"
      ]
     },
     "execution_count": 29,
     "metadata": {},
     "output_type": "execute_result"
    }
   ],
   "source": [
    "s7 = {8,3,6,9,25,16,46,21,78,5,3,6,9,8,4,2}\n",
    "len(s7)"
   ]
  },
  {
   "cell_type": "code",
   "execution_count": 30,
   "id": "a2c54b19",
   "metadata": {},
   "outputs": [
    {
     "data": {
      "text/plain": [
       "True"
      ]
     },
     "execution_count": 30,
     "metadata": {},
     "output_type": "execute_result"
    }
   ],
   "source": [
    "s8 = {\"school\", \"college\", \"students\", \"teacher\", 500, 43}\n",
    "\"teacher\" in s8"
   ]
  },
  {
   "cell_type": "code",
   "execution_count": null,
   "id": "5729bf08",
   "metadata": {},
   "outputs": [],
   "source": []
  },
  {
   "cell_type": "markdown",
   "id": "d17cd176",
   "metadata": {},
   "source": [
    "# Dictionary"
   ]
  },
  {
   "cell_type": "code",
   "execution_count": 31,
   "id": "458e1319",
   "metadata": {},
   "outputs": [
    {
     "data": {
      "text/plain": [
       "{1: 'one', 2: 'two', 3: 'three', 'b': 'banana'}"
      ]
     },
     "execution_count": 31,
     "metadata": {},
     "output_type": "execute_result"
    }
   ],
   "source": [
    "dct1 = {1:\"one\", 2:\"two\", 3:\"three\"}\n",
    "dct1[\"b\"]=\"banana\"\n",
    "dct1"
   ]
  },
  {
   "cell_type": "code",
   "execution_count": 32,
   "id": "4211bc8f",
   "metadata": {},
   "outputs": [
    {
     "data": {
      "text/plain": [
       "True"
      ]
     },
     "execution_count": 32,
     "metadata": {},
     "output_type": "execute_result"
    }
   ],
   "source": [
    "dct2 = {\"a\":\"apple\", \"b\":\"banana\", 43:[\"four\",\"ten\", \"fifty\"]}\n",
    "43 in dct2"
   ]
  },
  {
   "cell_type": "code",
   "execution_count": 33,
   "id": "0a8ebc69",
   "metadata": {},
   "outputs": [
    {
     "data": {
      "text/plain": [
       "{'a': 'apple', 43: ['four', 'ten', 'fifty']}"
      ]
     },
     "execution_count": 33,
     "metadata": {},
     "output_type": "execute_result"
    }
   ],
   "source": [
    "dct3 = {\"a\":\"apple\", \"b\":\"banana\", 43:[\"four\",\"ten\", \"fifty\"]}\n",
    "dct3.pop(\"b\")\n",
    "dct3"
   ]
  },
  {
   "cell_type": "code",
   "execution_count": 34,
   "id": "5ad01a03",
   "metadata": {},
   "outputs": [
    {
     "data": {
      "text/plain": [
       "{3: 5, 'peron': 'khushbu', 'colour': 'black', 9: 'nine', 'fifty': 50}"
      ]
     },
     "execution_count": 34,
     "metadata": {},
     "output_type": "execute_result"
    }
   ],
   "source": [
    "dct4 = {}\n",
    "dct4[3] = 5\n",
    "dct4[\"peron\"] = \"khushbu\"\n",
    "dct4[\"colour\"] = \"black\"\n",
    "dct4[9] = \"nine\"\n",
    "dct4[\"fifty\"] = 50\n",
    "dct4"
   ]
  },
  {
   "cell_type": "code",
   "execution_count": 35,
   "id": "76fbcd71",
   "metadata": {},
   "outputs": [
    {
     "data": {
      "text/plain": [
       "{'sky': 'blue', 'tree': 'green', 'laptop': 'dell', 'person': 'brave'}"
      ]
     },
     "execution_count": 35,
     "metadata": {},
     "output_type": "execute_result"
    }
   ],
   "source": [
    "dct5 ={\"sky\":\"blue\", \"tree\":\"green\", \"laptop\":\"dell\"}\n",
    "dct5[\"person\"] = 'brave'\n",
    "dct5"
   ]
  },
  {
   "cell_type": "code",
   "execution_count": 36,
   "id": "9ba91f44",
   "metadata": {},
   "outputs": [
    {
     "name": "stdout",
     "output_type": "stream",
     "text": [
      "dict_keys(['sky', 'tree', 'laptop', 'person'])\n"
     ]
    }
   ],
   "source": [
    "dct6 = {'sky': 'blue', 'tree': 'green', 'laptop': 'dell', 'person': 'brave'}\n",
    "print(dct6.keys())"
   ]
  },
  {
   "cell_type": "code",
   "execution_count": 37,
   "id": "e236e031",
   "metadata": {},
   "outputs": [
    {
     "name": "stdout",
     "output_type": "stream",
     "text": [
      "dict_values(['blue', 'green', 'dell', 'brave'])\n"
     ]
    }
   ],
   "source": [
    "dct7 = {'sky': 'blue', 'tree': 'green', 'laptop': 'dell', 'person': 'brave'}\n",
    "print(dct7.values())"
   ]
  },
  {
   "cell_type": "code",
   "execution_count": 38,
   "id": "17ccfae7",
   "metadata": {},
   "outputs": [
    {
     "data": {
      "text/plain": [
       "{'name': ['khushbu', 'harshal', 'manasvi'],\n",
       " 'person': ['brave', 'talented', 'kind'],\n",
       " 'fruit': ['apple', 'banana', 'pineapple, mango']}"
      ]
     },
     "execution_count": 38,
     "metadata": {},
     "output_type": "execute_result"
    }
   ],
   "source": [
    "dct8 = {\"name\":[\"khushbu\", \"harshal\", \"manasvi\"], \"person\":[\"brave\", \"talented\",\"kind\"], \"fruit\":[\"apple\",\"banana\", \"pineapple, mango\"] }\n",
    "dct81 = {\"Yob\":(1997,1998,1996), \"key\":{\"good\":\"bad\",\"black\":\"white\",2:4}, 3:[3,6,9,12,15]}\n",
    "dct8\n"
   ]
  },
  {
   "cell_type": "code",
   "execution_count": null,
   "id": "38e63ea5",
   "metadata": {},
   "outputs": [],
   "source": []
  },
  {
   "cell_type": "markdown",
   "id": "b8737933",
   "metadata": {},
   "source": [
    "# Variable"
   ]
  },
  {
   "cell_type": "code",
   "execution_count": 39,
   "id": "4409eacf",
   "metadata": {},
   "outputs": [
    {
     "name": "stdout",
     "output_type": "stream",
     "text": [
      "Inside_aiml\n",
      "116\n",
      "26.45\n",
      "True\n",
      "(3+5j)\n"
     ]
    }
   ],
   "source": [
    "str_var = \"Inside_aiml\"\n",
    "i = 116\n",
    "flt_var = 26.45\n",
    "boolian = True\n",
    "comp = 3 +5j\n",
    "\n",
    "print(str_var)\n",
    "print(i)\n",
    "print(flt_var)\n",
    "print(boolian)\n",
    "print(comp)\n"
   ]
  },
  {
   "cell_type": "code",
   "execution_count": 40,
   "id": "259dd706",
   "metadata": {},
   "outputs": [
    {
     "name": "stdout",
     "output_type": "stream",
     "text": [
      " Declared variable are [Inside_aiml, 116, 26.45, True, (3+5j)]\n"
     ]
    }
   ],
   "source": [
    "print(f\" Declared variable are [{str_var}, {i}, {flt_var}, {boolian}, {comp}]\")"
   ]
  },
  {
   "cell_type": "code",
   "execution_count": 41,
   "id": "ee8b7738",
   "metadata": {},
   "outputs": [
    {
     "name": "stdout",
     "output_type": "stream",
     "text": [
      "Enter your name :khushbu\n",
      "khushbu\n"
     ]
    }
   ],
   "source": [
    "name = input(\"Enter your name :\")\n",
    "print(name)"
   ]
  },
  {
   "cell_type": "code",
   "execution_count": 42,
   "id": "74e6041a",
   "metadata": {},
   "outputs": [
    {
     "data": {
      "text/plain": [
       "30"
      ]
     },
     "execution_count": 42,
     "metadata": {},
     "output_type": "execute_result"
    }
   ],
   "source": [
    "a = 20\n",
    "a += 10\n",
    "a"
   ]
  },
  {
   "cell_type": "code",
   "execution_count": 43,
   "id": "2f416b9c",
   "metadata": {},
   "outputs": [
    {
     "data": {
      "text/plain": [
       "10"
      ]
     },
     "execution_count": 43,
     "metadata": {},
     "output_type": "execute_result"
    }
   ],
   "source": [
    "Num = 10\n",
    "Num + 10\n",
    "Num"
   ]
  },
  {
   "cell_type": "code",
   "execution_count": 44,
   "id": "812ff213",
   "metadata": {},
   "outputs": [
    {
     "name": "stdout",
     "output_type": "stream",
     "text": [
      "Hello, my name is Khushbu, my id number is 23654 and my CGPA is 9.2\n"
     ]
    }
   ],
   "source": [
    "name = \"Khushbu\"\n",
    "id_no = 23654\n",
    "CGPA = 9.2\n",
    "print(f\"Hello, my name is {name}, my id number is {id_no} and my CGPA is {CGPA}\")"
   ]
  },
  {
   "cell_type": "code",
   "execution_count": null,
   "id": "2042799f",
   "metadata": {},
   "outputs": [],
   "source": []
  }
 ],
 "metadata": {
  "kernelspec": {
   "display_name": "Python 3 (ipykernel)",
   "language": "python",
   "name": "python3"
  },
  "language_info": {
   "codemirror_mode": {
    "name": "ipython",
    "version": 3
   },
   "file_extension": ".py",
   "mimetype": "text/x-python",
   "name": "python",
   "nbconvert_exporter": "python",
   "pygments_lexer": "ipython3",
   "version": "3.9.13"
  }
 },
 "nbformat": 4,
 "nbformat_minor": 5
}
