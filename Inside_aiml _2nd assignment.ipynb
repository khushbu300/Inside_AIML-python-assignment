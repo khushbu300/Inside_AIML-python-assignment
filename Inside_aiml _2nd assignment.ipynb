{
 "cells": [
  {
   "cell_type": "code",
   "execution_count": 1,
   "id": "2cdb2224",
   "metadata": {},
   "outputs": [],
   "source": [
    "# conditional statement"
   ]
  },
  {
   "cell_type": "code",
   "execution_count": 2,
   "id": "80c2a5d2",
   "metadata": {},
   "outputs": [
    {
     "name": "stdout",
     "output_type": "stream",
     "text": [
      "Enter the number :5\n",
      "Entered number is odd \n"
     ]
    }
   ],
   "source": [
    "# Que :1\n",
    "num = int(input(\"Enter the number :\"))\n",
    "if num % 2 == 0:\n",
    "    print(\"Entered number is even \")\n",
    "else :\n",
    "    print(\"Entered number is odd \")"
   ]
  },
  {
   "cell_type": "code",
   "execution_count": 3,
   "id": "12ba1b2c",
   "metadata": {},
   "outputs": [
    {
     "name": "stdout",
     "output_type": "stream",
     "text": [
      "Length of num_list is : 21\n",
      "Total even numbers in num_list are : 10\n",
      "Total odd numbers in num_list are : 11\n"
     ]
    }
   ],
   "source": [
    "# Que :2\n",
    "num_list = [1, 2, 5, 6, 9, 18, 7, 4, 5, 3, 42, 15, 36, 99, 78, 63, 12, 65, 14, 55, 26]\n",
    "count_even = 0\n",
    "count_odd = 0\n",
    "for i in num_list :\n",
    "    if i % 2 == 0:\n",
    "        count_even += 1\n",
    "\n",
    "    if i % 2 == 1 :\n",
    "        count_odd += 1 \n",
    "print(\"Length of num_list is :\", len(num_list))\n",
    "print(\"Total even numbers in num_list are :\", count_even)\n",
    "print(\"Total odd numbers in num_list are :\", count_odd)"
   ]
  },
  {
   "cell_type": "code",
   "execution_count": 4,
   "id": "1231167c",
   "metadata": {},
   "outputs": [
    {
     "name": "stdout",
     "output_type": "stream",
     "text": [
      "what is your name :khushbu\n",
      "Good morning khushbu\n"
     ]
    }
   ],
   "source": [
    "# Que :4\n",
    "NAME = input(\"what is your name :\")\n",
    "if NAME == \"Bond\" :\n",
    "    print(\"Welcome on bond 007.\")\n",
    "else :\n",
    "    print(f\"Good morning {NAME}\")"
   ]
  },
  {
   "cell_type": "code",
   "execution_count": 5,
   "id": "53efbf16",
   "metadata": {},
   "outputs": [
    {
     "name": "stdout",
     "output_type": "stream",
     "text": [
      "enter first number :8\n",
      "enter second number :6\n",
      "enter third number :9\n",
      "enter forth number :2\n",
      "[8, 6, 9, 2]\n",
      "max of all four number is : 9\n"
     ]
    }
   ],
   "source": [
    "# Que : 5\n",
    "l = []\n",
    "num1 = int(input(\"enter first number :\"))\n",
    "l.append(num1)\n",
    "num2 = int(input(\"enter second number :\"))\n",
    "l.append(num2)\n",
    "num3 = int(input(\"enter third number :\"))\n",
    "l.append(num3)\n",
    "num4 = int(input(\"enter forth number :\"))\n",
    "l.append(num4)\n",
    "\n",
    "print(l)\n",
    "print(\"max of all four number is :\", max(l))"
   ]
  },
  {
   "cell_type": "code",
   "execution_count": 6,
   "id": "aaa60e22",
   "metadata": {},
   "outputs": [
    {
     "name": "stdout",
     "output_type": "stream",
     "text": [
      "Enter num1 :8\n",
      "Enter num2 :6\n",
      "Enter num3 :3\n",
      "Enter num4 :9\n",
      "num4 9 is largest number out of four numbers 8,6,3,9\n"
     ]
    }
   ],
   "source": [
    "# Que : 5\n",
    "a =int(input(\"Enter num1 :\"))\n",
    "b =int(input(\"Enter num2 :\"))\n",
    "c =int(input(\"Enter num3 :\"))\n",
    "d =int(input(\"Enter num4 :\"))\n",
    "\n",
    "if a>b and a>c and a>d :\n",
    "    print(f\"num1 {a} is largest number out of four numbers {a},{b},{c},{d}\")\n",
    "elif b>a and b>c and b>d:\n",
    "    print(f\"num2 {b} is largest number out of four numbers {a},{b},{c},{d}\")\n",
    "elif c>a and c>b and c>d:\n",
    "    print(f\"num3 {c} is largest number out of four numbers {a},{b},{c},{d}\")\n",
    "elif d>a and d>b and d>c:\n",
    "    print(f'num4 {d} is largest number out of four numbers {a},{b},{c},{d}')"
   ]
  },
  {
   "cell_type": "code",
   "execution_count": 7,
   "id": "ee4bd83b",
   "metadata": {},
   "outputs": [
    {
     "name": "stdout",
     "output_type": "stream",
     "text": [
      "Enter the marks obtained in physics :89\n",
      "Congratulations....You will get new cycle\n"
     ]
    }
   ],
   "source": [
    "#Que :6\n",
    "physics_marks = int(input(\"Enter the marks obtained in physics :\"))\n",
    "if physics_marks > 50:\n",
    "    print(\"Congratulations....You will get new cycle\")\n",
    "    \n"
   ]
  },
  {
   "cell_type": "code",
   "execution_count": 8,
   "id": "0b4d2c1b",
   "metadata": {},
   "outputs": [
    {
     "name": "stdout",
     "output_type": "stream",
     "text": [
      "Enter the marks obtained in maths :78\n",
      "Congratulations....You will get new cycle\n"
     ]
    }
   ],
   "source": [
    "maths_marks = int(input(\"Enter the marks obtained in maths :\"))\n",
    "if maths_marks > 60:\n",
    "    print(\"Congratulations....You will get new cycle\")\n",
    "    \n",
    "else :\n",
    "    print(\"No pocket money\")\n",
    "    "
   ]
  },
  {
   "cell_type": "code",
   "execution_count": 9,
   "id": "67c07e4b",
   "metadata": {},
   "outputs": [
    {
     "name": "stdout",
     "output_type": "stream",
     "text": [
      "Enter the marks obtained in maths :89\n",
      "Enter the marks obtained in science :56\n",
      "Enter the marks obtained in english :86\n",
      "You will get nothing\n"
     ]
    }
   ],
   "source": [
    "# Que : 8\n",
    "maths_marks = int(input(\"Enter the marks obtained in maths :\"))\n",
    "science_marks = int(input(\"Enter the marks obtained in science :\"))\n",
    "english_marks = int(input(\"Enter the marks obtained in english :\"))\n",
    "\n",
    "if maths_marks > 80 :\n",
    "    if science_marks >= 70 :\n",
    "        if english_marks >= 90 :\n",
    "            print(\"You will get an ipad\")\n",
    "        else :\n",
    "            print(\"You will get nothing\")\n",
    "    else :\n",
    "        print(\"You will get nothing\")\n",
    "else :\n",
    "    print(\"You will get nothing\")"
   ]
  },
  {
   "cell_type": "code",
   "execution_count": 4,
   "id": "80d63973",
   "metadata": {},
   "outputs": [],
   "source": [
    "# loops"
   ]
  },
  {
   "cell_type": "code",
   "execution_count": 10,
   "id": "8345928a",
   "metadata": {},
   "outputs": [
    {
     "name": "stdout",
     "output_type": "stream",
     "text": [
      "0\n",
      "1\n",
      "2\n",
      "3\n",
      "4\n",
      "5\n",
      "6\n",
      "7\n",
      "8\n",
      "9\n",
      "10\n"
     ]
    }
   ],
   "source": [
    "#que :1.1\n",
    "for i in range(11) :\n",
    "    print(i)"
   ]
  },
  {
   "cell_type": "code",
   "execution_count": 11,
   "id": "6c70c4de",
   "metadata": {},
   "outputs": [
    {
     "name": "stdout",
     "output_type": "stream",
     "text": [
      "hello world\n",
      "hello world\n",
      "hello world\n",
      "hello world\n",
      "hello world\n"
     ]
    }
   ],
   "source": [
    "# Que :1.2\n",
    "a = \"hello world\"\n",
    "for i in range(5) :\n",
    "    print(a)"
   ]
  },
  {
   "cell_type": "code",
   "execution_count": 12,
   "id": "bd2a609c",
   "metadata": {},
   "outputs": [
    {
     "name": "stdout",
     "output_type": "stream",
     "text": [
      "2\n",
      "3\n",
      "4\n",
      "5\n",
      "6\n",
      "7\n",
      "8\n",
      "9\n",
      "10\n",
      "11\n",
      "12\n",
      "13\n",
      "14\n",
      "15\n",
      "16\n",
      "17\n",
      "18\n",
      "19\n",
      "20\n"
     ]
    }
   ],
   "source": [
    "# Que :1.3\n",
    "for i in range(2,21) :\n",
    "    print(i)"
   ]
  },
  {
   "cell_type": "code",
   "execution_count": 13,
   "id": "b84742e0",
   "metadata": {},
   "outputs": [
    {
     "name": "stdout",
     "output_type": "stream",
     "text": [
      "5\n",
      "15\n",
      "25\n",
      "35\n",
      "45\n",
      "55\n"
     ]
    }
   ],
   "source": [
    "\n",
    "# Que :1.4\n",
    "for i in range(5,56,10) :\n",
    "    print(i)"
   ]
  },
  {
   "cell_type": "code",
   "execution_count": 14,
   "id": "f2b458de",
   "metadata": {},
   "outputs": [
    {
     "name": "stdout",
     "output_type": "stream",
     "text": [
      "5\n",
      "2\n",
      "6\n",
      "3\n",
      "9\n",
      "8\n",
      "7\n",
      "4\n",
      "1\n"
     ]
    }
   ],
   "source": [
    "# Que :2\n",
    "lst = [5,2,6,3,9,8,7,4,1] \n",
    "for i in range(len(lst)) :\n",
    "    print(lst[i])"
   ]
  },
  {
   "cell_type": "code",
   "execution_count": 15,
   "id": "46d244ee",
   "metadata": {},
   "outputs": [
    {
     "name": "stdout",
     "output_type": "stream",
     "text": [
      "apple\n",
      "banana is available\n",
      "grapes\n",
      "oranges\n"
     ]
    }
   ],
   "source": [
    "# Que :3\n",
    "fruit_list = [\"apple\", \"banana\", \"grapes\", \"oranges\"]\n",
    "for i in fruit_list :\n",
    "    if i == \"banana\" :\n",
    "        print(\"banana is available\")\n",
    "    else :\n",
    "        print(i)"
   ]
  },
  {
   "cell_type": "code",
   "execution_count": 16,
   "id": "65ead957",
   "metadata": {},
   "outputs": [
    {
     "name": "stdout",
     "output_type": "stream",
     "text": [
      "0\n",
      "1\n",
      "2\n",
      "3\n",
      "4\n",
      "5\n",
      "6\n",
      "7\n",
      "8\n",
      "9\n",
      "10\n",
      "11\n"
     ]
    }
   ],
   "source": [
    "#Que :6\n",
    "for i in range(101) :\n",
    "    if i == 12 :\n",
    "        break\n",
    "    print(i)"
   ]
  },
  {
   "cell_type": "code",
   "execution_count": 17,
   "id": "4c654462",
   "metadata": {},
   "outputs": [
    {
     "name": "stdout",
     "output_type": "stream",
     "text": [
      "0\n",
      "1\n",
      "2\n",
      "3\n",
      "4\n",
      "5\n",
      "6\n",
      "8\n",
      "9\n",
      "10\n"
     ]
    }
   ],
   "source": [
    "#Que :7\n",
    "for i in range(11) :\n",
    "    if i == 7 :\n",
    "        continue \n",
    "    print(i)"
   ]
  },
  {
   "cell_type": "code",
   "execution_count": 18,
   "id": "dae1f007",
   "metadata": {},
   "outputs": [
    {
     "name": "stdout",
     "output_type": "stream",
     "text": [
      "index is 0 and corresponding item is Prerana\n",
      "index is 1 and corresponding item is Khushbu\n",
      "index is 2 and corresponding item is Kshitija\n",
      "index is 3 and corresponding item is Manasvi\n",
      "index is 4 and corresponding item is Indrayani\n"
     ]
    }
   ],
   "source": [
    "#Que :8\n",
    "name_list = ['Prerana', \"Khushbu\", \"Kshitija\", \"Manasvi\", \"Indrayani\"]\n",
    "for i in range(len(name_list)) :\n",
    "    print(f\"index is {i} and corresponding item is {name_list[i]}\")"
   ]
  },
  {
   "cell_type": "code",
   "execution_count": 19,
   "id": "54c4d6d9",
   "metadata": {},
   "outputs": [
    {
     "name": "stdout",
     "output_type": "stream",
     "text": [
      "number 0 is even\n",
      "number 1 is odd\n",
      "number 2 is even\n",
      "number 3 is odd\n",
      "number 4 is even\n",
      "number 5 is odd\n",
      "number 6 is even\n",
      "number 7 is odd\n",
      "number 8 is even\n",
      "number 9 is odd\n",
      "number 10 is even\n",
      "number 11 is odd\n",
      "number 12 is even\n",
      "number 13 is odd\n",
      "number 14 is even\n",
      "number 15 is odd\n",
      "number 16 is even\n",
      "number 17 is odd\n",
      "number 18 is even\n",
      "number 19 is odd\n",
      "number 20 is even\n"
     ]
    }
   ],
   "source": [
    "#Que : 9\n",
    "for i in range(21) :\n",
    "    if i % 2 == 0:\n",
    "        print(f\"number {i} is even\")\n",
    "    if i % 2 == 1:\n",
    "        print(f\"number {i} is odd\")"
   ]
  },
  {
   "cell_type": "code",
   "execution_count": 20,
   "id": "769c4239",
   "metadata": {},
   "outputs": [
    {
     "name": "stdout",
     "output_type": "stream",
     "text": [
      "enter your total marks :89\n",
      "salute\n",
      "salute\n",
      "salute\n",
      "salute\n",
      "salute\n"
     ]
    }
   ],
   "source": [
    "# Que :4\n",
    "total_marks = int(input(\"enter your total marks :\"))\n",
    "if total_marks > 60 :\n",
    "    for i in range(5) :\n",
    "        print(\"salute\")\n",
    "else :\n",
    "    for i in range(5) :\n",
    "        print(\"punishment\")"
   ]
  },
  {
   "cell_type": "code",
   "execution_count": 22,
   "id": "0df82ba3",
   "metadata": {},
   "outputs": [
    {
     "name": "stdout",
     "output_type": "stream",
     "text": [
      "enter your mathematics marks :89\n",
      "enter your science marks :89\n",
      "enter your english marks :96\n",
      "how many times you want me to salute you :5\n",
      "salute\n",
      "salute\n",
      "salute\n",
      "salute\n",
      "salute\n"
     ]
    }
   ],
   "source": [
    "# Que :5\n",
    "maths_marks = int(input(\"enter your mathematics marks :\"))\n",
    "science_marks = int(input(\"enter your science marks :\"))\n",
    "english_marks = int(input(\"enter your english marks :\"))\n",
    "\n",
    "if maths_marks > 80 :\n",
    "    if science_marks >= 70 :\n",
    "        if english_marks >= 90 :\n",
    "            a = int(input(\"how many times you want me to salute you :\"))\n",
    "            for i in range(a) :\n",
    "                print(\"salute\")\n",
    "        else :\n",
    "            print(\"i won't salute you\")\n",
    "    else :\n",
    "        print(\"i won't salute you\")\n",
    "else :\n",
    "    print(\"i won't salute you\")"
   ]
  },
  {
   "cell_type": "code",
   "execution_count": 24,
   "id": "e4776e5c",
   "metadata": {},
   "outputs": [
    {
     "name": "stdout",
     "output_type": "stream",
     "text": [
      "Guess the number :89\n",
      "Try lower number\n",
      "Guess the number :70\n",
      "Try lower number\n",
      "Guess the number :50\n",
      "Try lower number\n",
      "Guess the number :4\n",
      "Try higher number\n",
      "Guess the number :7\n",
      "Congratutations... You have guessed correct number in 5 attempts\n"
     ]
    }
   ],
   "source": [
    "#Que :2\n",
    "actual_num = 7\n",
    "attempts = 0\n",
    "while True:\n",
    "    attempts += 1\n",
    "    guess_num = int(input(\"Guess the number :\"))\n",
    "    if actual_num < guess_num :\n",
    "        print(\"Try lower number\")\n",
    "    elif actual_num > guess_num :\n",
    "        print(\"Try higher number\")\n",
    "    else :\n",
    "        print(f\"Congratutations... You have guessed correct number in {attempts} attempts\")\n",
    "        break\n",
    "    "
   ]
  },
  {
   "cell_type": "code",
   "execution_count": 25,
   "id": "d72430f5",
   "metadata": {},
   "outputs": [
    {
     "name": "stdout",
     "output_type": "stream",
     "text": [
      "apple\n",
      "banana is available\n",
      "grapes\n",
      "oranges\n"
     ]
    }
   ],
   "source": [
    "# Que :3\n",
    "fruit_list = [\"apple\", \"banana\", \"grapes\", \"oranges\"]\n",
    "for i in fruit_list :\n",
    "    if i == \"banana\" :\n",
    "        print(\"banana is available\")\n",
    "    else :\n",
    "        print(i)\n"
   ]
  },
  {
   "cell_type": "code",
   "execution_count": 26,
   "id": "2a281b96",
   "metadata": {},
   "outputs": [
    {
     "name": "stdout",
     "output_type": "stream",
     "text": [
      "hello world\n",
      "hello world\n",
      "hello world\n",
      "hello world\n",
      "hello world\n"
     ]
    }
   ],
   "source": [
    "# Que :1.2\n",
    "a = \"hello world\"\n",
    "for i in range(5) :\n",
    "    print(a)"
   ]
  },
  {
   "cell_type": "code",
   "execution_count": 27,
   "id": "9b4e7d47",
   "metadata": {},
   "outputs": [
    {
     "name": "stdout",
     "output_type": "stream",
     "text": [
      "enter your total marks :63\n",
      "salute\n",
      "salute\n",
      "salute\n",
      "salute\n",
      "salute\n"
     ]
    }
   ],
   "source": [
    "# Que :4\n",
    "total_marks = int(input(\"enter your total marks :\"))\n",
    "if total_marks > 60 :\n",
    "     for i in range(5) :\n",
    "             print(\"salute\")\n",
    "else :\n",
    "     for i in range(5) :\n",
    "             print(\"punishment\")"
   ]
  },
  {
   "cell_type": "code",
   "execution_count": 12,
   "id": "fe64a8d7",
   "metadata": {},
   "outputs": [
    {
     "name": "stdout",
     "output_type": "stream",
     "text": [
      "5\n",
      "15\n",
      "25\n",
      "35\n",
      "45\n",
      "55\n"
     ]
    }
   ],
   "source": [
    "for i in range(5,56,10) :\n",
    "    print(i)"
   ]
  },
  {
   "cell_type": "code",
   "execution_count": 2,
   "id": "35aaa0ab",
   "metadata": {},
   "outputs": [
    {
     "name": "stdout",
     "output_type": "stream",
     "text": [
      "5\n",
      "2\n",
      "6\n",
      "3\n",
      "9\n",
      "8\n",
      "7\n",
      "4\n",
      "1\n"
     ]
    }
   ],
   "source": [
    "lst = [5,2,6,3,9,8,7,4,1]\n",
    "for i in range(len(lst)) : print(lst[i])\n"
   ]
  },
  {
   "cell_type": "code",
   "execution_count": null,
   "id": "3cf01878",
   "metadata": {},
   "outputs": [],
   "source": []
  }
 ],
 "metadata": {
  "kernelspec": {
   "display_name": "Python 3 (ipykernel)",
   "language": "python",
   "name": "python3"
  },
  "language_info": {
   "codemirror_mode": {
    "name": "ipython",
    "version": 3
   },
   "file_extension": ".py",
   "mimetype": "text/x-python",
   "name": "python",
   "nbconvert_exporter": "python",
   "pygments_lexer": "ipython3",
   "version": "3.9.13"
  }
 },
 "nbformat": 4,
 "nbformat_minor": 5
}
