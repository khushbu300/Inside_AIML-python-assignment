{
 "cells": [
  {
   "cell_type": "code",
   "execution_count": 1,
   "id": "2134060f",
   "metadata": {},
   "outputs": [
    {
     "name": "stdout",
     "output_type": "stream",
     "text": [
      "What kind of data you want to store :Personal Information\n",
      "How many row you want to store :four\n",
      "It seems like you have entered string value..Plz enter integer value.\n",
      "How many row you want to store :4\n",
      "How many columns you want :3\n",
      "Enter the  column 1 name :Name\n",
      "Enter the  column 2 name :Height\n",
      "Enter the  column 3 name :Weight\n",
      "Hello there... Your dataframe is ready to store the data. Now you can store your data.\n",
      "Enter the information about 1 entry of column ----> Name :Khushbu\n",
      "Enter the information about 1 entry of column ----> Height :5'4''\n",
      "Enter the information about 1 entry of column ----> Weight :53 kg\n",
      "Enter the information about 2 entry of column ----> Name :Harshal\n",
      "Enter the information about 2 entry of column ----> Height :5'6\"\n",
      "Enter the information about 2 entry of column ----> Weight :56 kg\n",
      "Enter the information about 3 entry of column ----> Name :Sunita\n",
      "Enter the information about 3 entry of column ----> Height :5'2\"\n",
      "Enter the information about 3 entry of column ----> Weight :55 kg\n",
      "Enter the information about 4 entry of column ----> Name :Kirtish\n",
      "Enter the information about 4 entry of column ----> Height :5'7\"\n",
      "Enter the information about 4 entry of column ----> Weight :60 kg\n"
     ]
    }
   ],
   "source": [
    "import pandas as pd\n",
    "information = input(\"What kind of data you want to store :\")\n",
    "\n",
    "while True :\n",
    "    try :\n",
    "        no_of_row = int(input(\"How many row you want to store :\"))\n",
    "        break\n",
    "    except :\n",
    "        print(\"It seems like you have entered string value..Plz enter integer value.\")\n",
    "        \n",
    "\n",
    "while True :\n",
    "    try :\n",
    "        no_of_column = int(input(\"How many columns you want :\"))\n",
    "        break\n",
    "    except:\n",
    "        print(\"It seems like you have entered string value.. Plz enter integer value.\")\n",
    "        \n",
    "column_name_lst = []\n",
    "for i in range(no_of_column):\n",
    "    col = input(f\"Enter the  column {i+1} name :\")\n",
    "    column_name_lst.append(col)\n",
    "    \n",
    "df = pd.DataFrame(index = range(no_of_row), columns = column_name_lst)\n",
    "\n",
    "print(\"Hello there... Your dataframe is ready to store the data. Now you can store your data.\")\n",
    "\n",
    "for i in range(no_of_row):\n",
    "    lst =[]\n",
    "    for j in range(no_of_column):\n",
    "        value = input(f\"Enter the information about {i+1} entry of column ----> {column_name_lst[j]} :\")\n",
    "        lst.append(value)\n",
    "    df.loc[i] = lst\n",
    "df.to_csv(\"Pandas_project1.csv\")"
   ]
  },
  {
   "cell_type": "code",
   "execution_count": null,
   "id": "141dbc8d",
   "metadata": {},
   "outputs": [],
   "source": []
  }
 ],
 "metadata": {
  "kernelspec": {
   "display_name": "Python 3 (ipykernel)",
   "language": "python",
   "name": "python3"
  },
  "language_info": {
   "codemirror_mode": {
    "name": "ipython",
    "version": 3
   },
   "file_extension": ".py",
   "mimetype": "text/x-python",
   "name": "python",
   "nbconvert_exporter": "python",
   "pygments_lexer": "ipython3",
   "version": "3.9.13"
  }
 },
 "nbformat": 4,
 "nbformat_minor": 5
}
