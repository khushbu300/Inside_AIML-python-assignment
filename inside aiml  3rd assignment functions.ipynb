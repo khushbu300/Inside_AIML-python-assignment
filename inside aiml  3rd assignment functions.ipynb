{
 "cells": [
  {
   "cell_type": "code",
   "execution_count": 1,
   "id": "7ab2be42",
   "metadata": {},
   "outputs": [],
   "source": [
    "def caller():\n",
    "    print (\"Hello caller\")"
   ]
  },
  {
   "cell_type": "code",
   "execution_count": 2,
   "id": "05706a5c",
   "metadata": {},
   "outputs": [
    {
     "name": "stdout",
     "output_type": "stream",
     "text": [
      "Hello caller\n"
     ]
    }
   ],
   "source": [
    "caller()"
   ]
  },
  {
   "cell_type": "code",
   "execution_count": 3,
   "id": "b7d1259d",
   "metadata": {},
   "outputs": [
    {
     "name": "stdout",
     "output_type": "stream",
     "text": [
      "Hello caller\n"
     ]
    }
   ],
   "source": [
    "caller()"
   ]
  },
  {
   "cell_type": "code",
   "execution_count": 4,
   "id": "f5f43f8e",
   "metadata": {},
   "outputs": [
    {
     "name": "stdout",
     "output_type": "stream",
     "text": [
      "10\n"
     ]
    }
   ],
   "source": [
    "def variable(a):\n",
    "    print(a)\n",
    "variable(10)"
   ]
  },
  {
   "cell_type": "code",
   "execution_count": 5,
   "id": "d04f8979",
   "metadata": {},
   "outputs": [
    {
     "name": "stdout",
     "output_type": "stream",
     "text": [
      "23\n"
     ]
    }
   ],
   "source": [
    "variable(23)"
   ]
  },
  {
   "cell_type": "code",
   "execution_count": 6,
   "id": "3b2ffc02",
   "metadata": {},
   "outputs": [],
   "source": [
    "def check_num(a):\n",
    "    if a%2 == 0:\n",
    "        print(a,\"is even \")\n",
    "    else :\n",
    "        print(a,'is odd')"
   ]
  },
  {
   "cell_type": "code",
   "execution_count": 7,
   "id": "6a13702e",
   "metadata": {},
   "outputs": [
    {
     "name": "stdout",
     "output_type": "stream",
     "text": [
      "10 is even \n"
     ]
    }
   ],
   "source": [
    "check_num(10)"
   ]
  },
  {
   "cell_type": "code",
   "execution_count": 8,
   "id": "40071c72",
   "metadata": {},
   "outputs": [
    {
     "name": "stdout",
     "output_type": "stream",
     "text": [
      "15 is odd\n"
     ]
    }
   ],
   "source": [
    "check_num(15)"
   ]
  },
  {
   "cell_type": "code",
   "execution_count": 9,
   "id": "4d004831",
   "metadata": {},
   "outputs": [],
   "source": [
    "def larger_val(a,b):\n",
    "    if a>b:\n",
    "        print(f\"{a} is larger than {b}\")\n",
    "    else :\n",
    "        print(f\"{b} is larger than {a}\")"
   ]
  },
  {
   "cell_type": "code",
   "execution_count": 10,
   "id": "a303ffbe",
   "metadata": {},
   "outputs": [
    {
     "name": "stdout",
     "output_type": "stream",
     "text": [
      "78 is larger than 56\n"
     ]
    }
   ],
   "source": [
    "larger_val(78,56)"
   ]
  },
  {
   "cell_type": "code",
   "execution_count": 11,
   "id": "e47c3f7c",
   "metadata": {},
   "outputs": [],
   "source": [
    "def smaller_val(a,b):\n",
    "    if a<b:\n",
    "        print(f\"{a} is smaller than {b}\")\n",
    "    else :\n",
    "        print(f\"{b} is smaller than {a}\")"
   ]
  },
  {
   "cell_type": "code",
   "execution_count": 12,
   "id": "f8097973",
   "metadata": {},
   "outputs": [
    {
     "name": "stdout",
     "output_type": "stream",
     "text": [
      "23 is smaller than 45\n"
     ]
    }
   ],
   "source": [
    "smaller_val(23,45)"
   ]
  },
  {
   "cell_type": "code",
   "execution_count": 13,
   "id": "e0a37e6f",
   "metadata": {},
   "outputs": [],
   "source": [
    "def function(*a):\n",
    "    return a"
   ]
  },
  {
   "cell_type": "code",
   "execution_count": 14,
   "id": "a6c474d7",
   "metadata": {},
   "outputs": [
    {
     "data": {
      "text/plain": [
       "(2, 3, 6, 5, 9, 8, 7, 9, 6, 3, 5, 8)"
      ]
     },
     "execution_count": 14,
     "metadata": {},
     "output_type": "execute_result"
    }
   ],
   "source": [
    "function(2,3,6,5,9,8,7,9,6,3,5,8)"
   ]
  },
  {
   "cell_type": "code",
   "execution_count": 15,
   "id": "77fbb7c6",
   "metadata": {},
   "outputs": [],
   "source": [
    "def function4(*a):\n",
    "    for i in a:\n",
    "        print(i)"
   ]
  },
  {
   "cell_type": "code",
   "execution_count": 16,
   "id": "ee121ab2",
   "metadata": {},
   "outputs": [
    {
     "name": "stdout",
     "output_type": "stream",
     "text": [
      "[5, 2, 3, 6, 9, 8]\n"
     ]
    }
   ],
   "source": [
    "function4([5,2,3,6,9,8])"
   ]
  },
  {
   "cell_type": "code",
   "execution_count": 17,
   "id": "5d32c0fd",
   "metadata": {},
   "outputs": [],
   "source": [
    "def test():\n",
    "    a = int(input(\"Enter the starting point of range :\"))\n",
    "    b = int(input(\"Enter the ending point of the range :\"))\n",
    "    c = int(input(\"Enter the step size :\"))\n",
    "    for i in range(a,b,c):\n",
    "        if i%2 == 0:\n",
    "            print(i,'is even')\n",
    "        else :\n",
    "            print(i, 'is odd')"
   ]
  },
  {
   "cell_type": "code",
   "execution_count": 18,
   "id": "421b1857",
   "metadata": {},
   "outputs": [
    {
     "name": "stdout",
     "output_type": "stream",
     "text": [
      "Enter the starting point of range :4\n",
      "Enter the ending point of the range :20\n",
      "Enter the step size :2\n",
      "4 is even\n",
      "6 is even\n",
      "8 is even\n",
      "10 is even\n",
      "12 is even\n",
      "14 is even\n",
      "16 is even\n",
      "18 is even\n"
     ]
    }
   ],
   "source": [
    "test()"
   ]
  },
  {
   "cell_type": "code",
   "execution_count": 19,
   "id": "e993497f",
   "metadata": {},
   "outputs": [],
   "source": [
    "def test(a):\n",
    "    for i in range(len(a)):\n",
    "        print('element is ',a[i] ,'and respective index is',i)"
   ]
  },
  {
   "cell_type": "code",
   "execution_count": 20,
   "id": "37f80a6c",
   "metadata": {},
   "outputs": [
    {
     "name": "stdout",
     "output_type": "stream",
     "text": [
      "element is  4 and respective index is 0\n",
      "element is  2 and respective index is 1\n",
      "element is  5 and respective index is 2\n",
      "element is  6 and respective index is 3\n",
      "element is  9 and respective index is 4\n",
      "element is  8 and respective index is 5\n"
     ]
    }
   ],
   "source": [
    "test([4,2,5,6,9,8])"
   ]
  },
  {
   "cell_type": "code",
   "execution_count": 21,
   "id": "64982ccc",
   "metadata": {},
   "outputs": [
    {
     "name": "stdout",
     "output_type": "stream",
     "text": [
      "Enter the size of the list :3\n",
      "enter number :20\n",
      "enter number :45\n",
      "enter number :96\n",
      "maximum number = 96\n"
     ]
    }
   ],
   "source": [
    "a = []\n",
    "size = int(input(\"Enter the size of the list :\"))\n",
    "for i in range(size):\n",
    "    val = int(input(\"enter number :\"))\n",
    "    a.append(val)\n",
    "max = a[0]\n",
    "for i in range(size):\n",
    "    if a[i]> max:\n",
    "        max =a[i]\n",
    "print('maximum number =',max)"
   ]
  },
  {
   "cell_type": "code",
   "execution_count": 22,
   "id": "98ff4377",
   "metadata": {},
   "outputs": [],
   "source": [
    "def maximum_num():\n",
    "    lst = []\n",
    "    size = int(input(\"Enter the size of the list :\"))\n",
    "    for i in range(size):\n",
    "        val = int(input(\"Enter number :\"))\n",
    "        lst.append(val)\n",
    "    print(f\"our list is {lst}\")\n",
    "    \n",
    "    max = lst[0]\n",
    "    for i in range(size):\n",
    "        if lst[i]> max:\n",
    "            max =lst[i]\n",
    "    print(f'Maximum number of the list : {max}')"
   ]
  },
  {
   "cell_type": "code",
   "execution_count": 23,
   "id": "4829a6d7",
   "metadata": {},
   "outputs": [
    {
     "name": "stdout",
     "output_type": "stream",
     "text": [
      "Enter the size of the list :5\n",
      "Enter number :46\n",
      "Enter number :86\n",
      "Enter number :12\n",
      "Enter number :48\n",
      "Enter number :96\n",
      "our list is [46, 86, 12, 48, 96]\n",
      "Maximum number of the list : 96\n"
     ]
    }
   ],
   "source": [
    "maximum_num()"
   ]
  },
  {
   "cell_type": "code",
   "execution_count": 24,
   "id": "c82ec71c",
   "metadata": {},
   "outputs": [
    {
     "name": "stdout",
     "output_type": "stream",
     "text": [
      "list is [4, 8, 9, 6, 3, 2, 5, 4]\n",
      "Index 0 ----> corresponding element 4\n",
      "Index 1 ----> corresponding element 8\n",
      "Index 2 ----> corresponding element 9\n",
      "Index 3 ----> corresponding element 6\n",
      "Index 4 ----> corresponding element 3\n",
      "Index 5 ----> corresponding element 2\n",
      "Index 6 ----> corresponding element 5\n",
      "Index 7 ----> corresponding element 4\n"
     ]
    }
   ],
   "source": [
    "def test1(*a):\n",
    "    lst = []\n",
    "    for i in a:\n",
    "        lst.append(i)\n",
    "    print(f\"list is {lst}\")\n",
    "    \n",
    "    for i in range(len(lst)):\n",
    "        print(f\"Index {i} ----> corresponding element {lst[i]}\")\n",
    "        \n",
    "test1(4,8,9,6,3,2,5,4)  "
   ]
  },
  {
   "cell_type": "code",
   "execution_count": 26,
   "id": "308688f0",
   "metadata": {},
   "outputs": [
    {
     "name": "stdout",
     "output_type": "stream",
     "text": [
      "Enter the starting point of range :4\n",
      "Enter the ending point of the range :16\n",
      "Enter the step size :3\n",
      "4 is even\n",
      "7 is odd\n",
      "10 is even\n",
      "13 is odd\n"
     ]
    }
   ],
   "source": [
    "def test():\n",
    "    a = int(input(\"Enter the starting point of range :\"))\n",
    "    b = int(input(\"Enter the ending point of the range :\"))\n",
    "    c = int(input(\"Enter the step size :\"))\n",
    "    for i in range(a,b,c):\n",
    "        if i%2 == 0:\n",
    "            print(i,'is even')\n",
    "        else :\n",
    "            print(i, 'is odd')\n",
    "test()\n"
   ]
  },
  {
   "cell_type": "code",
   "execution_count": 27,
   "id": "aa8f311c",
   "metadata": {},
   "outputs": [],
   "source": [
    "def test() : \n",
    "    a  = 1\n",
    "    b = 10 \n",
    "    while a <=b :\n",
    "        print(a)\n",
    "        a = a +2\n",
    "    else :\n",
    "        print(\"print this else block\")\n",
    "    test()\n"
   ]
  },
  {
   "cell_type": "code",
   "execution_count": 28,
   "id": "d885e2c1",
   "metadata": {},
   "outputs": [
    {
     "name": "stdout",
     "output_type": "stream",
     "text": [
      "1\n",
      "3\n",
      "5\n",
      "7\n",
      "9\n",
      "print this else block\n"
     ]
    }
   ],
   "source": [
    "def test() : \n",
    "    a  = 1\n",
    "    b = 10 \n",
    "    while a <=b :\n",
    "        print(a)\n",
    "        a = a +2\n",
    "    else :\n",
    "        print(\"print this else block\")\n",
    "test()\n"
   ]
  },
  {
   "cell_type": "code",
   "execution_count": null,
   "id": "ab092793",
   "metadata": {},
   "outputs": [],
   "source": []
  },
  {
   "cell_type": "code",
   "execution_count": null,
   "id": "36a405e3",
   "metadata": {},
   "outputs": [],
   "source": []
  }
 ],
 "metadata": {
  "kernelspec": {
   "display_name": "Python 3 (ipykernel)",
   "language": "python",
   "name": "python3"
  },
  "language_info": {
   "codemirror_mode": {
    "name": "ipython",
    "version": 3
   },
   "file_extension": ".py",
   "mimetype": "text/x-python",
   "name": "python",
   "nbconvert_exporter": "python",
   "pygments_lexer": "ipython3",
   "version": "3.9.13"
  }
 },
 "nbformat": 4,
 "nbformat_minor": 5
}
